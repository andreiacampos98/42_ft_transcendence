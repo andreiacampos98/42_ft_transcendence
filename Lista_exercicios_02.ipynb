{
  "nbformat": 4,
  "nbformat_minor": 0,
  "metadata": {
    "colab": {
      "provenance": [],
      "authorship_tag": "ABX9TyM/N+XG5O8qBXcvylmqgzc7",
      "include_colab_link": true
    },
    "kernelspec": {
      "name": "python3",
      "display_name": "Python 3"
    },
    "language_info": {
      "name": "python"
    }
  },
  "cells": [
    {
      "cell_type": "markdown",
      "metadata": {
        "id": "view-in-github",
        "colab_type": "text"
      },
      "source": [
        "<a href=\"https://colab.research.google.com/github/andreiacampos98/42_ft_transcendence/blob/master/Lista_exercicios_02.ipynb\" target=\"_parent\"><img src=\"https://colab.research.google.com/assets/colab-badge.svg\" alt=\"Open In Colab\"/></a>"
      ]
    },
    {
      "cell_type": "markdown",
      "source": [
        "1. Criação de Funções Simples\n",
        "\n",
        "Escreva uma função chamada saudar que recebe como argumento o nome de uma pessoa e imprime uma saudação personalizada. Caso nenhum nome seja fornecido, a função deve exibir \"Olá, visitante!\".\n",
        "\n",
        "Exemplo:\n",
        "\n",
        "python\n",
        "\n",
        "Copy code\n",
        "\n",
        "saudar(\"João\")  # Saída: Olá, João!\n",
        "\n",
        "saudar()        # Saída: Olá, visitante!\n"
      ],
      "metadata": {
        "id": "7eVOHaDmux6w"
      }
    },
    {
      "cell_type": "code",
      "source": [
        "def saudar(nome=\"visitante\"):\n",
        "  print(f\"Olá, {nome}!\")\n",
        "\n",
        "saudar(\"João\") # Saída: Olá, João!\n",
        "saudar() # Saída: Olá, visitante!"
      ],
      "metadata": {
        "colab": {
          "base_uri": "https://localhost:8080/"
        },
        "id": "11n9PVXlvEzh",
        "outputId": "783a9e37-cb8c-49d5-d964-92e048e9e018"
      },
      "execution_count": 11,
      "outputs": [
        {
          "output_type": "stream",
          "name": "stdout",
          "text": [
            "Olá, João!\n",
            "Olá, visitante!\n"
          ]
        }
      ]
    }
  ]
}